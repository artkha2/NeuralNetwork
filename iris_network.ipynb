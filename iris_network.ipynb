{
 "cells": [
  {
   "cell_type": "code",
   "execution_count": null,
   "id": "accab923",
   "metadata": {},
   "outputs": [],
   "source": [
    "from sklearn import datasets\n",
    "import numpy as np"
   ]
  },
  {
   "cell_type": "code",
   "execution_count": 626,
   "id": "f18a89ed",
   "metadata": {},
   "outputs": [],
   "source": [
    "iris = datasets.load_iris()"
   ]
  },
  {
   "cell_type": "code",
   "execution_count": null,
   "id": "0d37880b",
   "metadata": {},
   "outputs": [],
   "source": [
    "data = np.column_stack((iris['target'], iris['data']))  # combine target with data, make target the first column like it was in MNIST "
   ]
  },
  {
   "cell_type": "code",
   "execution_count": 630,
   "id": "84960cdc",
   "metadata": {},
   "outputs": [],
   "source": [
    "def normalize(X):\n",
    "    # normalize by feature - each column separately\n",
    "    return (X - X.min(axis=1, keepdims=True)) / (X.max(axis=1, keepdims=True) - X.min(axis=1, keepdims=True))\n"
   ]
  },
  {
   "cell_type": "code",
   "execution_count": 644,
   "id": "dccfc0a7",
   "metadata": {},
   "outputs": [
    {
     "data": {
      "text/plain": [
       "array([[0. , 4.9, 3.1, 1.5, 0.1],\n",
       "       [2. , 6.3, 2.7, 4.9, 1.8],\n",
       "       [1. , 6.1, 2.8, 4.7, 1.2],\n",
       "       [0. , 5. , 3.3, 1.4, 0.2],\n",
       "       [2. , 6.2, 2.8, 4.8, 1.8]])"
      ]
     },
     "execution_count": 644,
     "metadata": {},
     "output_type": "execute_result"
    }
   ],
   "source": [
    "data[:5]"
   ]
  },
  {
   "cell_type": "code",
   "execution_count": null,
   "id": "6acb2abf",
   "metadata": {},
   "outputs": [],
   "source": [
    "m, n = data.shape # rows (150, number of flowers) and columns (number of features + 1 for the label)\n",
    "\n",
    "# split up data into training and testing\n",
    "np.random.shuffle(data)\n",
    "\n",
    "data_dev = data[0:30].T  # 30 flowers for testing\n",
    "Y_dev = data_dev[0].astype(int)\n",
    "X_dev = data_dev[1:n]\n",
    "X_dev =  normalize(X_dev)  # between 0 and 1. Normalize each feature separately according to its min and max\n",
    "\n",
    "data_train = data[30:m].T\n",
    "Y_train = data_train[0].astype(int)  # because of transposition, labels are now in the first row\n",
    "X_train = data_train[1:n]\n",
    "X_train = normalize(X_train)"
   ]
  },
  {
   "cell_type": "code",
   "execution_count": 633,
   "id": "dd1c4282",
   "metadata": {},
   "outputs": [
    {
     "data": {
      "text/plain": [
       "array([1, 1, 2, 2, 2, 2, 2, 2, 2, 2, 0, 1, 0, 0, 0, 2, 2, 2, 0, 0, 2, 2,\n",
       "       0, 0, 2, 2, 1, 0, 0, 2, 1, 0, 1, 0, 2, 2, 0, 1, 2, 2, 1, 1, 1, 1,\n",
       "       2, 2, 0, 2, 2, 0, 0, 0, 0, 0, 2, 0, 2, 0, 2, 2, 0, 0, 0, 2, 2, 1,\n",
       "       1, 0, 1, 2, 1, 2, 2, 0, 1, 1, 1, 1, 1, 2, 2, 0, 0, 1, 0, 1, 1, 2,\n",
       "       0, 1, 1, 0, 0, 1, 0, 0, 0, 1, 1, 0, 2, 1, 1, 0, 1, 0, 1, 0, 1, 1,\n",
       "       2, 2, 2, 1, 1, 1, 1, 2, 2, 1])"
      ]
     },
     "execution_count": 633,
     "metadata": {},
     "output_type": "execute_result"
    }
   ],
   "source": [
    "Y_train"
   ]
  },
  {
   "cell_type": "code",
   "execution_count": 634,
   "id": "4afb94f1",
   "metadata": {},
   "outputs": [],
   "source": [
    "# Better initial parameters can lead to higher accuracy\n",
    "def init_parameters():\n",
    "    W1 = np.random.rand(3, 4) - 0.5  # between -0.5 and 0.5\n",
    "    b1 = np.random.rand(3, 1) - 0.5\n",
    "    W2 = np.random.rand(3, 3) - 0.5\n",
    "    b2 = np.random.rand(3, 1) - 0.5\n",
    "    return W1, b1, W2, b2"
   ]
  },
  {
   "cell_type": "code",
   "execution_count": 635,
   "id": "731180d9",
   "metadata": {},
   "outputs": [],
   "source": [
    "# Activation functions\n",
    "def ReLU(Z):  # for 1st layer\n",
    "    return np.maximum(0, Z) # element-wise operation on Z\n",
    "\n",
    "def softmax(Z):  # for 2nd layer\n",
    "    e_Z = np.exp(Z - np.max(Z, axis=0, keepdims=True))\n",
    "    return e_Z / e_Z.sum(axis=0)\n",
    "\n",
    "def deriv_ReLU(Z):\n",
    "    return Z > 0  # if Z is positive, returns 1, 0 otherwise"
   ]
  },
  {
   "cell_type": "code",
   "execution_count": 636,
   "id": "ec75bfb6",
   "metadata": {},
   "outputs": [],
   "source": [
    "def forward_prop(W1, b1, W2, b2, X):\n",
    "    Z1 = W1.dot(X) + b1  # since W1 and x are 2D arrays, dot is matrix multiplication\n",
    "    A1 = ReLU(Z1)\n",
    "    Z2 = W2.dot(A1) + b2\n",
    "    A2 = softmax(Z2)\n",
    "\n",
    "    return Z1, A1, Z2, A2"
   ]
  },
  {
   "cell_type": "code",
   "execution_count": null,
   "id": "8acf0908",
   "metadata": {},
   "outputs": [],
   "source": [
    "# Y is 0-2, so max+1 is 3 - how many classes we need\n",
    "# for each row, go to the column specified by Y (0-2) and set it to 1\n",
    "def one_hot(Y):\n",
    "    one_hot_Y = np.zeros((Y.size, Y.max()+1))  # m rows, 3 columns\n",
    "    one_hot_Y[np.arange(Y.size), Y] = 1  # pair each row number 0 to m with the corresponding label\n",
    "    return one_hot_Y.T  # each column is an example"
   ]
  },
  {
   "cell_type": "code",
   "execution_count": 638,
   "id": "094f315c",
   "metadata": {},
   "outputs": [],
   "source": [
    "# m is size of Y - how many examples there are\n",
    "def back_prop(Z1, A1, A2, W2, X, one_hot_Y, m):\n",
    "    dZ2 = A2 - one_hot_Y  # accounts for derivative of softmax\n",
    "    dW2 = 1/m * dZ2.dot(A1.T)\n",
    "    db2 = 1/m * np.sum(dZ2, axis=1, keepdims=True)\n",
    "\n",
    "    dZ1 = W2.T.dot(dZ2) * deriv_ReLU(Z1)\n",
    "    dW1 = 1/m * dZ1.dot(X.T)\n",
    "    db1 = 1/m * np.sum(dZ1, axis=1, keepdims=True)\n",
    "\n",
    "    return dW1, db1, dW2, db2"
   ]
  },
  {
   "cell_type": "code",
   "execution_count": 639,
   "id": "1034fa62",
   "metadata": {},
   "outputs": [],
   "source": [
    "def update_params(W1, b1, W2, b2, dW1, db1, dW2, db2, alpha):\n",
    "    W1 = W1 - alpha*dW1\n",
    "    b1 = b1 - alpha*db1\n",
    "\n",
    "    W2 = W2 - alpha*dW2\n",
    "    b2 = b2 - alpha*db2\n",
    "\n",
    "    return W1, b1, W2, b2\n"
   ]
  },
  {
   "cell_type": "code",
   "execution_count": 640,
   "id": "f42c230d",
   "metadata": {},
   "outputs": [],
   "source": [
    "def get_predictions(A2):\n",
    "    return np.argmax(A2, 0)  # chooses the digit with the highest probability\n",
    "\n",
    "def get_accuracy(predictions, Y):\n",
    "    return np.sum(predictions == Y) / Y.size"
   ]
  },
  {
   "cell_type": "code",
   "execution_count": 641,
   "id": "a94a363e",
   "metadata": {},
   "outputs": [],
   "source": [
    "# alpha is a hyperparameter set by the programmer\n",
    "def gradient_descent(X, Y, iterations, alpha):\n",
    "    W1, b1, W2, b2 = init_parameters()\n",
    "    one_hot_Y = one_hot(Y)\n",
    "    m = Y.size\n",
    "    \n",
    "    for i in range(iterations):\n",
    "        Z1, A1, Z2, A2 = forward_prop(W1, b1, W2, b2, X)\n",
    "        dW1, db1, dW2, db2 = back_prop(Z1, A1, A2, W2, X, one_hot_Y, m)\n",
    "        W1, b1, W2, b2 = update_params(W1, b1, W2, b2, dW1, db1, dW2, db2, alpha)\n",
    "\n",
    "        if i%100 == 0:\n",
    "            print(\"Iteration: \", i)\n",
    "            print(\"Accuracy: \", get_accuracy(get_predictions(A2), Y))\n",
    "        \n",
    "    return W1, b1, W2, b2"
   ]
  },
  {
   "cell_type": "code",
   "execution_count": null,
   "id": "27d56fdc",
   "metadata": {},
   "outputs": [
    {
     "name": "stdout",
     "output_type": "stream",
     "text": [
      "Iteration:  0\n",
      "Accuracy:  0.325\n",
      "Iteration:  100\n",
      "Accuracy:  0.675\n",
      "Iteration:  200\n",
      "Accuracy:  0.8583333333333333\n",
      "Iteration:  300\n",
      "Accuracy:  0.9333333333333333\n",
      "Iteration:  400\n",
      "Accuracy:  0.9666666666666667\n",
      "Iteration:  500\n",
      "Accuracy:  0.9666666666666667\n",
      "Iteration:  600\n",
      "Accuracy:  0.9583333333333334\n",
      "Iteration:  700\n",
      "Accuracy:  0.9583333333333334\n",
      "Iteration:  800\n",
      "Accuracy:  0.9583333333333334\n",
      "Iteration:  900\n",
      "Accuracy:  0.9666666666666667\n"
     ]
    }
   ],
   "source": [
    "# train the model\n",
    "W1, b1, W2, b2 = gradient_descent(X_train, Y_train, 1001, 0.1)"
   ]
  },
  {
   "cell_type": "code",
   "execution_count": null,
   "id": "24fe9cfe",
   "metadata": {},
   "outputs": [
    {
     "name": "stdout",
     "output_type": "stream",
     "text": [
      "Dev Set Accuracy: 0.9333333333333333\n"
     ]
    },
    {
     "data": {
      "text/plain": [
       "array([0, 2, 1, 0, 2, 1, 1, 2, 2, 1, 1, 0, 0, 1, 1, 2, 2, 2, 0, 1, 0, 1,\n",
       "       2, 0, 0, 0, 1, 0, 1, 0], dtype=int64)"
      ]
     },
     "execution_count": 643,
     "metadata": {},
     "output_type": "execute_result"
    }
   ],
   "source": [
    "# check performance on test dataset\n",
    "def predict(X, Y, W1, b1, W2, b2):\n",
    "    _, _, _, A2 = forward_prop(W1, b1, W2, b2, X)\n",
    "    predictions = get_predictions(A2)\n",
    "    acc = get_accuracy(predictions, Y)\n",
    "    print(\"Dev Set Accuracy:\", acc)\n",
    "    return predictions\n",
    "\n",
    "predict(X_dev, Y_dev, W1, b1, W2, b2)"
   ]
  }
 ],
 "metadata": {
  "kernelspec": {
   "display_name": "Python 3",
   "language": "python",
   "name": "python3"
  },
  "language_info": {
   "codemirror_mode": {
    "name": "ipython",
    "version": 3
   },
   "file_extension": ".py",
   "mimetype": "text/x-python",
   "name": "python",
   "nbconvert_exporter": "python",
   "pygments_lexer": "ipython3",
   "version": "3.12.0"
  }
 },
 "nbformat": 4,
 "nbformat_minor": 5
}
